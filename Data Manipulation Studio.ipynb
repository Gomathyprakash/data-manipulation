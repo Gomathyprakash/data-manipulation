{
 "cells": [
  {
   "cell_type": "markdown",
   "id": "1894ccac",
   "metadata": {},
   "source": [
    "# Data Manipulation Studio\n",
    "\n",
    "For this studio, we will revisit our California farmers looking for advice on growing pumpkins and the same [pumpkins dataset](https://www.kaggle.com/usda/a-year-of-pumpkin-prices) as provided by the U.S. Department of Agriculture. You may have to clean data in the process of data manipulation, so feel free to pull up your notebook from the last class's studio.\n",
    "\n",
    "We will now be focusing our attention on a different region in the United States, the Northeast. When you open up the `dataset` folder, you will have 13 CSVs, including the San Francisco and Los Angeles data from the last lesson. The 13 CSVs are each a different terminal market in the United States.\n",
    "\n",
    "## Getting Started\n",
    "\n",
    "Import the CSVs for each of the following cities: Baltimore, Boston, New York, and Philadelphia. Set up a dataframe for each city."
   ]
  },
  {
   "cell_type": "code",
   "execution_count": 91,
   "id": "66c9a7e7",
   "metadata": {},
   "outputs": [],
   "source": [
    "# Import the necessary libraries and CSVs. Make some dataframes!\n",
    "import pandas as pd\n",
    "from functools import reduce\n",
    "import numpy as np\n",
    "import matplotlib \n",
    "import matplotlib.pyplot as plt\n",
    "Baltimore_df = pd.read_csv(\"C:/Users/praka/Desktop/Launch Code Gomathy/Women_Data_Analysis/data-manipulation/dataset/baltimore_9-24-2016_9-30-2017.csv\")\n",
    "\n",
    "Boston_df = pd.read_csv(\"C:/Users/praka/Desktop/Launch Code Gomathy/Women_Data_Analysis/data-manipulation/dataset/boston_9-24-2016_9-30-2017.csv\")\n",
    "\n",
    "New_york_df = pd.read_csv(\"C:/Users/praka/Desktop/Launch Code Gomathy/Women_Data_Analysis/data-manipulation/dataset/new-york_9-24-2016_9-30-2017.csv\")\n",
    "\n",
    "Philadel_df =pd.read_csv(\"C:/Users/praka/Desktop/Launch Code Gomathy/Women_Data_Analysis/data-manipulation/dataset/philadelphia_9-24-2016_9-30-2017.csv\")"
   ]
  },
  {
   "cell_type": "code",
   "execution_count": 36,
   "id": "f504a569",
   "metadata": {},
   "outputs": [
    {
     "data": {
      "text/plain": [
       "(153, 25)"
      ]
     },
     "execution_count": 36,
     "metadata": {},
     "output_type": "execute_result"
    }
   ],
   "source": [
    "Baltimore_df.shape"
   ]
  },
  {
   "cell_type": "code",
   "execution_count": 37,
   "id": "9291ae9c",
   "metadata": {},
   "outputs": [
    {
     "data": {
      "text/plain": [
       "(352, 25)"
      ]
     },
     "execution_count": 37,
     "metadata": {},
     "output_type": "execute_result"
    }
   ],
   "source": [
    "Boston_df.shape"
   ]
  },
  {
   "cell_type": "code",
   "execution_count": 38,
   "id": "e292c47f",
   "metadata": {},
   "outputs": [
    {
     "data": {
      "text/plain": [
       "(112, 25)"
      ]
     },
     "execution_count": 38,
     "metadata": {},
     "output_type": "execute_result"
    }
   ],
   "source": [
    "New_york_df.shape"
   ]
  },
  {
   "cell_type": "code",
   "execution_count": 39,
   "id": "7c7eb2d6",
   "metadata": {},
   "outputs": [
    {
     "data": {
      "text/plain": [
       "(57, 25)"
      ]
     },
     "execution_count": 39,
     "metadata": {},
     "output_type": "execute_result"
    }
   ],
   "source": [
    "Philadel_df.shape"
   ]
  },
  {
   "cell_type": "markdown",
   "id": "6cfda42f",
   "metadata": {},
   "source": [
    "## Clean Your Data\n",
    "\n",
    "In the last lesson, we cleaned the data to related to San Francisco. Pull up your notebook from the last lesson and use your cleaning skills to clean the dataframes as necessary."
   ]
  },
  {
   "cell_type": "code",
   "execution_count": 22,
   "id": "98abc290",
   "metadata": {
    "scrolled": true
   },
   "outputs": [
    {
     "name": "stdout",
     "output_type": "stream",
     "text": [
      "Commodity Name - 0%\n",
      "City Name - 0%\n",
      "Type - 100%\n",
      "Package - 0%\n",
      "Variety - 1%\n",
      "Sub Variety - 84%\n",
      "Grade - 100%\n",
      "Date - 0%\n",
      "Low Price - 0%\n",
      "High Price - 0%\n",
      "Mostly Low - 0%\n",
      "Mostly High - 0%\n",
      "Origin - 3%\n",
      "Origin District - 100%\n",
      "Item Size - 16%\n",
      "Color - 80%\n",
      "Environment - 100%\n",
      "Unit of Sale - 84%\n",
      "Quality - 100%\n",
      "Condition - 100%\n",
      "Appearance - 100%\n",
      "Storage - 100%\n",
      "Crop - 100%\n",
      "Repack - 0%\n",
      "Trans Mode - 100%\n"
     ]
    }
   ],
   "source": [
    "# Clean your data here!\n",
    "\n",
    "   #cleaning the Baltimore_df\n",
    "    \n",
    "for col in Baltimore_df.columns:\n",
    "    pct_missing = np.mean(Baltimore_df[col].isnull())\n",
    "    print('{} - {}%'.format(col, round(pct_missing*100)))"
   ]
  },
  {
   "cell_type": "code",
   "execution_count": 40,
   "id": "b37bae0e",
   "metadata": {},
   "outputs": [
    {
     "data": {
      "text/plain": [
       "(153, 15)"
      ]
     },
     "execution_count": 40,
     "metadata": {},
     "output_type": "execute_result"
    }
   ],
   "source": [
    "Balt_data =Baltimore_df.drop([\"Type\",\"Grade\",\"Origin District\",\"Environment\",\"Quality\",\"Condition\",\"Appearance\",\"Storage\",\"Crop\",\"Trans Mode\"],axis = 1)\n",
    "Balt_data.shape"
   ]
  },
  {
   "cell_type": "code",
   "execution_count": 47,
   "id": "61f99d37",
   "metadata": {},
   "outputs": [
    {
     "data": {
      "text/html": [
       "<div>\n",
       "<style scoped>\n",
       "    .dataframe tbody tr th:only-of-type {\n",
       "        vertical-align: middle;\n",
       "    }\n",
       "\n",
       "    .dataframe tbody tr th {\n",
       "        vertical-align: top;\n",
       "    }\n",
       "\n",
       "    .dataframe thead th {\n",
       "        text-align: right;\n",
       "    }\n",
       "</style>\n",
       "<table border=\"1\" class=\"dataframe\">\n",
       "  <thead>\n",
       "    <tr style=\"text-align: right;\">\n",
       "      <th></th>\n",
       "      <th>Commodity Name</th>\n",
       "      <th>City Name</th>\n",
       "      <th>Package</th>\n",
       "      <th>Variety</th>\n",
       "      <th>Sub Variety</th>\n",
       "      <th>Date</th>\n",
       "      <th>Low Price</th>\n",
       "      <th>High Price</th>\n",
       "      <th>Mostly Low</th>\n",
       "      <th>Mostly High</th>\n",
       "      <th>Origin</th>\n",
       "      <th>Item Size</th>\n",
       "      <th>Color</th>\n",
       "      <th>Unit of Sale</th>\n",
       "      <th>Repack</th>\n",
       "    </tr>\n",
       "  </thead>\n",
       "  <tbody>\n",
       "    <tr>\n",
       "      <th>0</th>\n",
       "      <td>PUMPKINS</td>\n",
       "      <td>BALTIMORE</td>\n",
       "      <td>24 inch bins</td>\n",
       "      <td>NaN</td>\n",
       "      <td>NaN</td>\n",
       "      <td>04/29/2017</td>\n",
       "      <td>270</td>\n",
       "      <td>280.0</td>\n",
       "      <td>270</td>\n",
       "      <td>280.0</td>\n",
       "      <td>NaN</td>\n",
       "      <td>lge</td>\n",
       "      <td>NaN</td>\n",
       "      <td>NaN</td>\n",
       "      <td>E</td>\n",
       "    </tr>\n",
       "    <tr>\n",
       "      <th>1</th>\n",
       "      <td>PUMPKINS</td>\n",
       "      <td>BALTIMORE</td>\n",
       "      <td>24 inch bins</td>\n",
       "      <td>NaN</td>\n",
       "      <td>NaN</td>\n",
       "      <td>05/06/2017</td>\n",
       "      <td>270</td>\n",
       "      <td>280.0</td>\n",
       "      <td>270</td>\n",
       "      <td>280.0</td>\n",
       "      <td>NaN</td>\n",
       "      <td>lge</td>\n",
       "      <td>NaN</td>\n",
       "      <td>NaN</td>\n",
       "      <td>E</td>\n",
       "    </tr>\n",
       "    <tr>\n",
       "      <th>2</th>\n",
       "      <td>PUMPKINS</td>\n",
       "      <td>BALTIMORE</td>\n",
       "      <td>24 inch bins</td>\n",
       "      <td>HOWDEN TYPE</td>\n",
       "      <td>NaN</td>\n",
       "      <td>09/24/2016</td>\n",
       "      <td>160</td>\n",
       "      <td>160.0</td>\n",
       "      <td>160</td>\n",
       "      <td>160.0</td>\n",
       "      <td>DELAWARE</td>\n",
       "      <td>med</td>\n",
       "      <td>NaN</td>\n",
       "      <td>NaN</td>\n",
       "      <td>False</td>\n",
       "    </tr>\n",
       "  </tbody>\n",
       "</table>\n",
       "</div>"
      ],
      "text/plain": [
       "  Commodity Name  City Name       Package      Variety Sub Variety  \\\n",
       "0       PUMPKINS  BALTIMORE  24 inch bins          NaN         NaN   \n",
       "1       PUMPKINS  BALTIMORE  24 inch bins          NaN         NaN   \n",
       "2       PUMPKINS  BALTIMORE  24 inch bins  HOWDEN TYPE         NaN   \n",
       "\n",
       "         Date  Low Price  High Price  Mostly Low  Mostly High    Origin  \\\n",
       "0  04/29/2017        270       280.0         270        280.0       NaN   \n",
       "1  05/06/2017        270       280.0         270        280.0       NaN   \n",
       "2  09/24/2016        160       160.0         160        160.0  DELAWARE   \n",
       "\n",
       "  Item Size Color Unit of Sale Repack  \n",
       "0       lge   NaN          NaN      E  \n",
       "1       lge   NaN          NaN      E  \n",
       "2       med   NaN          NaN  False  "
      ]
     },
     "execution_count": 47,
     "metadata": {},
     "output_type": "execute_result"
    }
   ],
   "source": [
    "Balt_data[\"Repack\"] = Balt_data[\"Repack\"].replace({\"N\":False})\n",
    "Balt_data.head(3)"
   ]
  },
  {
   "cell_type": "code",
   "execution_count": 56,
   "id": "ac7e6fb1",
   "metadata": {},
   "outputs": [
    {
     "data": {
      "text/html": [
       "<div>\n",
       "<style scoped>\n",
       "    .dataframe tbody tr th:only-of-type {\n",
       "        vertical-align: middle;\n",
       "    }\n",
       "\n",
       "    .dataframe tbody tr th {\n",
       "        vertical-align: top;\n",
       "    }\n",
       "\n",
       "    .dataframe thead th {\n",
       "        text-align: right;\n",
       "    }\n",
       "</style>\n",
       "<table border=\"1\" class=\"dataframe\">\n",
       "  <thead>\n",
       "    <tr style=\"text-align: right;\">\n",
       "      <th></th>\n",
       "      <th>Low Price</th>\n",
       "      <th>High Price</th>\n",
       "      <th>Mostly Low</th>\n",
       "      <th>Mostly High</th>\n",
       "    </tr>\n",
       "  </thead>\n",
       "  <tbody>\n",
       "    <tr>\n",
       "      <th>count</th>\n",
       "      <td>153.000000</td>\n",
       "      <td>153.000000</td>\n",
       "      <td>153.000000</td>\n",
       "      <td>153.000000</td>\n",
       "    </tr>\n",
       "    <tr>\n",
       "      <th>mean</th>\n",
       "      <td>101.490196</td>\n",
       "      <td>109.055556</td>\n",
       "      <td>101.490196</td>\n",
       "      <td>108.859477</td>\n",
       "    </tr>\n",
       "    <tr>\n",
       "      <th>std</th>\n",
       "      <td>97.651981</td>\n",
       "      <td>101.969948</td>\n",
       "      <td>97.651981</td>\n",
       "      <td>101.887248</td>\n",
       "    </tr>\n",
       "    <tr>\n",
       "      <th>min</th>\n",
       "      <td>15.000000</td>\n",
       "      <td>15.000000</td>\n",
       "      <td>15.000000</td>\n",
       "      <td>15.000000</td>\n",
       "    </tr>\n",
       "    <tr>\n",
       "      <th>25%</th>\n",
       "      <td>17.000000</td>\n",
       "      <td>18.000000</td>\n",
       "      <td>17.000000</td>\n",
       "      <td>18.000000</td>\n",
       "    </tr>\n",
       "    <tr>\n",
       "      <th>50%</th>\n",
       "      <td>50.000000</td>\n",
       "      <td>60.000000</td>\n",
       "      <td>50.000000</td>\n",
       "      <td>60.000000</td>\n",
       "    </tr>\n",
       "    <tr>\n",
       "      <th>75%</th>\n",
       "      <td>180.000000</td>\n",
       "      <td>180.000000</td>\n",
       "      <td>180.000000</td>\n",
       "      <td>180.000000</td>\n",
       "    </tr>\n",
       "    <tr>\n",
       "      <th>max</th>\n",
       "      <td>380.000000</td>\n",
       "      <td>380.000000</td>\n",
       "      <td>380.000000</td>\n",
       "      <td>380.000000</td>\n",
       "    </tr>\n",
       "  </tbody>\n",
       "</table>\n",
       "</div>"
      ],
      "text/plain": [
       "        Low Price  High Price  Mostly Low  Mostly High\n",
       "count  153.000000  153.000000  153.000000   153.000000\n",
       "mean   101.490196  109.055556  101.490196   108.859477\n",
       "std     97.651981  101.969948   97.651981   101.887248\n",
       "min     15.000000   15.000000   15.000000    15.000000\n",
       "25%     17.000000   18.000000   17.000000    18.000000\n",
       "50%     50.000000   60.000000   50.000000    60.000000\n",
       "75%    180.000000  180.000000  180.000000   180.000000\n",
       "max    380.000000  380.000000  380.000000   380.000000"
      ]
     },
     "execution_count": 56,
     "metadata": {},
     "output_type": "execute_result"
    }
   ],
   "source": [
    "Balt_data.describe()"
   ]
  },
  {
   "cell_type": "code",
   "execution_count": 59,
   "id": "1185d031",
   "metadata": {},
   "outputs": [
    {
     "data": {
      "text/plain": [
       "<AxesSubplot:>"
      ]
     },
     "execution_count": 59,
     "metadata": {},
     "output_type": "execute_result"
    },
    {
     "data": {
      "image/png": "[encoded data removed]",
      "text/plain": [
       "<Figure size 432x288 with 1 Axes>"
      ]
     },
     "metadata": {
      "needs_background": "light"
     },
     "output_type": "display_data"
    }
   ],
   "source": [
    "Balt_data['Date'].value_counts().plot.bar()"
   ]
  },
  {
   "cell_type": "code",
   "execution_count": 68,
   "id": "60fafc19",
   "metadata": {},
   "outputs": [
    {
     "data": {
      "text/plain": [
       "([0,\n",
       "  1,\n",
       "  2,\n",
       "  3,\n",
       "  4,\n",
       "  5,\n",
       "  6,\n",
       "  7,\n",
       "  8,\n",
       "  9,\n",
       "  10,\n",
       "  11,\n",
       "  12,\n",
       "  13,\n",
       "  14,\n",
       "  15,\n",
       "  16,\n",
       "  17,\n",
       "  18,\n",
       "  19,\n",
       "  20,\n",
       "  21,\n",
       "  22],\n",
       " [Text(0, 0, ''),\n",
       "  Text(0, 0, ''),\n",
       "  Text(0, 0, ''),\n",
       "  Text(0, 0, ''),\n",
       "  Text(0, 0, ''),\n",
       "  Text(0, 0, ''),\n",
       "  Text(0, 0, ''),\n",
       "  Text(0, 0, ''),\n",
       "  Text(0, 0, ''),\n",
       "  Text(0, 0, ''),\n",
       "  Text(0, 0, ''),\n",
       "  Text(0, 0, ''),\n",
       "  Text(0, 0, ''),\n",
       "  Text(0, 0, ''),\n",
       "  Text(0, 0, ''),\n",
       "  Text(0, 0, ''),\n",
       "  Text(0, 0, ''),\n",
       "  Text(0, 0, ''),\n",
       "  Text(0, 0, ''),\n",
       "  Text(0, 0, ''),\n",
       "  Text(0, 0, ''),\n",
       "  Text(0, 0, ''),\n",
       "  Text(0, 0, '')])"
      ]
     },
     "execution_count": 68,
     "metadata": {},
     "output_type": "execute_result"
    },
    {
     "data": {
      "image/png": "[encoded data removed]",
      "text/plain": [
       "<Figure size 432x288 with 1 Axes>"
      ]
     },
     "metadata": {
      "needs_background": "light"
     },
     "output_type": "display_data"
    }
   ],
   "source": [
    "Balt_data['Date'].hist(bins=100)\n",
    "plt.xticks(rotation=90)"
   ]
  },
  {
   "cell_type": "code",
   "execution_count": 23,
   "id": "85ad917c",
   "metadata": {},
   "outputs": [
    {
     "name": "stdout",
     "output_type": "stream",
     "text": [
      "Commodity Name - 0%\n",
      "City Name - 0%\n",
      "Type - 100%\n",
      "Package - 0%\n",
      "Variety - 0%\n",
      "Sub Variety - 92%\n",
      "Grade - 100%\n",
      "Date - 0%\n",
      "Low Price - 0%\n",
      "High Price - 0%\n",
      "Mostly Low - 0%\n",
      "Mostly High - 0%\n",
      "Origin - 0%\n",
      "Origin District - 81%\n",
      "Item Size - 1%\n",
      "Color - 14%\n",
      "Environment - 100%\n",
      "Unit of Sale - 87%\n",
      "Quality - 100%\n",
      "Condition - 100%\n",
      "Appearance - 100%\n",
      "Storage - 100%\n",
      "Crop - 100%\n",
      "Repack - 0%\n",
      "Trans Mode - 100%\n"
     ]
    }
   ],
   "source": [
    "     #cleaning the Boston_df\n",
    "\n",
    "for col in Boston_df.columns:\n",
    "    pct_missing = np.mean(Boston_df[col].isnull())\n",
    "    print('{} - {}%'.format(col, round(pct_missing*100)))"
   ]
  },
  {
   "cell_type": "code",
   "execution_count": 35,
   "id": "088f6558",
   "metadata": {},
   "outputs": [
    {
     "data": {
      "text/plain": [
       "(352, 15)"
      ]
     },
     "execution_count": 35,
     "metadata": {},
     "output_type": "execute_result"
    }
   ],
   "source": [
    "Boston_data = Boston_df.drop([\"Type\",\"Grade\",\"Origin District\",\"Environment\",\"Quality\",\"Condition\",\"Appearance\",\"Storage\",\"Crop\",\"Trans Mode\"],axis = 1)\n",
    "Boston_data.shape"
   ]
  },
  {
   "cell_type": "code",
   "execution_count": 48,
   "id": "8152cec2",
   "metadata": {},
   "outputs": [
    {
     "data": {
      "text/html": [
       "<div>\n",
       "<style scoped>\n",
       "    .dataframe tbody tr th:only-of-type {\n",
       "        vertical-align: middle;\n",
       "    }\n",
       "\n",
       "    .dataframe tbody tr th {\n",
       "        vertical-align: top;\n",
       "    }\n",
       "\n",
       "    .dataframe thead th {\n",
       "        text-align: right;\n",
       "    }\n",
       "</style>\n",
       "<table border=\"1\" class=\"dataframe\">\n",
       "  <thead>\n",
       "    <tr style=\"text-align: right;\">\n",
       "      <th></th>\n",
       "      <th>Commodity Name</th>\n",
       "      <th>City Name</th>\n",
       "      <th>Package</th>\n",
       "      <th>Variety</th>\n",
       "      <th>Sub Variety</th>\n",
       "      <th>Date</th>\n",
       "      <th>Low Price</th>\n",
       "      <th>High Price</th>\n",
       "      <th>Mostly Low</th>\n",
       "      <th>Mostly High</th>\n",
       "      <th>Origin</th>\n",
       "      <th>Item Size</th>\n",
       "      <th>Color</th>\n",
       "      <th>Unit of Sale</th>\n",
       "      <th>Repack</th>\n",
       "    </tr>\n",
       "  </thead>\n",
       "  <tbody>\n",
       "    <tr>\n",
       "      <th>0</th>\n",
       "      <td>PUMPKINS</td>\n",
       "      <td>BOSTON</td>\n",
       "      <td>36 inch bins</td>\n",
       "      <td>HOWDEN TYPE</td>\n",
       "      <td>NaN</td>\n",
       "      <td>09/24/2016</td>\n",
       "      <td>160</td>\n",
       "      <td>200</td>\n",
       "      <td>165</td>\n",
       "      <td>165</td>\n",
       "      <td>CANADA</td>\n",
       "      <td>exjbo</td>\n",
       "      <td>ORANGE</td>\n",
       "      <td>NaN</td>\n",
       "      <td>False</td>\n",
       "    </tr>\n",
       "    <tr>\n",
       "      <th>1</th>\n",
       "      <td>PUMPKINS</td>\n",
       "      <td>BOSTON</td>\n",
       "      <td>36 inch bins</td>\n",
       "      <td>HOWDEN TYPE</td>\n",
       "      <td>NaN</td>\n",
       "      <td>09/24/2016</td>\n",
       "      <td>160</td>\n",
       "      <td>200</td>\n",
       "      <td>165</td>\n",
       "      <td>165</td>\n",
       "      <td>CANADA</td>\n",
       "      <td>jbo</td>\n",
       "      <td>ORANGE</td>\n",
       "      <td>NaN</td>\n",
       "      <td>False</td>\n",
       "    </tr>\n",
       "    <tr>\n",
       "      <th>2</th>\n",
       "      <td>PUMPKINS</td>\n",
       "      <td>BOSTON</td>\n",
       "      <td>36 inch bins</td>\n",
       "      <td>HOWDEN TYPE</td>\n",
       "      <td>NaN</td>\n",
       "      <td>09/24/2016</td>\n",
       "      <td>160</td>\n",
       "      <td>200</td>\n",
       "      <td>165</td>\n",
       "      <td>165</td>\n",
       "      <td>CANADA</td>\n",
       "      <td>xlge</td>\n",
       "      <td>ORANGE</td>\n",
       "      <td>NaN</td>\n",
       "      <td>False</td>\n",
       "    </tr>\n",
       "  </tbody>\n",
       "</table>\n",
       "</div>"
      ],
      "text/plain": [
       "  Commodity Name City Name       Package      Variety Sub Variety        Date  \\\n",
       "0       PUMPKINS    BOSTON  36 inch bins  HOWDEN TYPE         NaN  09/24/2016   \n",
       "1       PUMPKINS    BOSTON  36 inch bins  HOWDEN TYPE         NaN  09/24/2016   \n",
       "2       PUMPKINS    BOSTON  36 inch bins  HOWDEN TYPE         NaN  09/24/2016   \n",
       "\n",
       "   Low Price  High Price  Mostly Low  Mostly High  Origin Item Size   Color  \\\n",
       "0        160         200         165          165  CANADA     exjbo  ORANGE   \n",
       "1        160         200         165          165  CANADA       jbo  ORANGE   \n",
       "2        160         200         165          165  CANADA      xlge  ORANGE   \n",
       "\n",
       "  Unit of Sale  Repack  \n",
       "0          NaN   False  \n",
       "1          NaN   False  \n",
       "2          NaN   False  "
      ]
     },
     "execution_count": 48,
     "metadata": {},
     "output_type": "execute_result"
    }
   ],
   "source": [
    "Boston_data[\"Repack\"] = Boston_data[\"Repack\"].replace({\"N\":False})\n",
    "Boston_data.head(3)"
   ]
  },
  {
   "cell_type": "code",
   "execution_count": 57,
   "id": "cc0e139d",
   "metadata": {},
   "outputs": [
    {
     "data": {
      "text/html": [
       "<div>\n",
       "<style scoped>\n",
       "    .dataframe tbody tr th:only-of-type {\n",
       "        vertical-align: middle;\n",
       "    }\n",
       "\n",
       "    .dataframe tbody tr th {\n",
       "        vertical-align: top;\n",
       "    }\n",
       "\n",
       "    .dataframe thead th {\n",
       "        text-align: right;\n",
       "    }\n",
       "</style>\n",
       "<table border=\"1\" class=\"dataframe\">\n",
       "  <thead>\n",
       "    <tr style=\"text-align: right;\">\n",
       "      <th></th>\n",
       "      <th>Low Price</th>\n",
       "      <th>High Price</th>\n",
       "      <th>Mostly Low</th>\n",
       "      <th>Mostly High</th>\n",
       "    </tr>\n",
       "  </thead>\n",
       "  <tbody>\n",
       "    <tr>\n",
       "      <th>count</th>\n",
       "      <td>352.000000</td>\n",
       "      <td>352.000000</td>\n",
       "      <td>352.000000</td>\n",
       "      <td>352.000000</td>\n",
       "    </tr>\n",
       "    <tr>\n",
       "      <th>mean</th>\n",
       "      <td>162.840909</td>\n",
       "      <td>187.235795</td>\n",
       "      <td>172.721591</td>\n",
       "      <td>176.130682</td>\n",
       "    </tr>\n",
       "    <tr>\n",
       "      <th>std</th>\n",
       "      <td>77.513147</td>\n",
       "      <td>86.934652</td>\n",
       "      <td>83.898506</td>\n",
       "      <td>85.275688</td>\n",
       "    </tr>\n",
       "    <tr>\n",
       "      <th>min</th>\n",
       "      <td>15.000000</td>\n",
       "      <td>16.000000</td>\n",
       "      <td>15.000000</td>\n",
       "      <td>15.000000</td>\n",
       "    </tr>\n",
       "    <tr>\n",
       "      <th>25%</th>\n",
       "      <td>140.000000</td>\n",
       "      <td>160.000000</td>\n",
       "      <td>150.000000</td>\n",
       "      <td>155.000000</td>\n",
       "    </tr>\n",
       "    <tr>\n",
       "      <th>50%</th>\n",
       "      <td>175.000000</td>\n",
       "      <td>200.000000</td>\n",
       "      <td>180.000000</td>\n",
       "      <td>180.000000</td>\n",
       "    </tr>\n",
       "    <tr>\n",
       "      <th>75%</th>\n",
       "      <td>200.000000</td>\n",
       "      <td>225.000000</td>\n",
       "      <td>220.000000</td>\n",
       "      <td>225.000000</td>\n",
       "    </tr>\n",
       "    <tr>\n",
       "      <th>max</th>\n",
       "      <td>300.000000</td>\n",
       "      <td>300.000000</td>\n",
       "      <td>300.000000</td>\n",
       "      <td>300.000000</td>\n",
       "    </tr>\n",
       "  </tbody>\n",
       "</table>\n",
       "</div>"
      ],
      "text/plain": [
       "        Low Price  High Price  Mostly Low  Mostly High\n",
       "count  352.000000  352.000000  352.000000   352.000000\n",
       "mean   162.840909  187.235795  172.721591   176.130682\n",
       "std     77.513147   86.934652   83.898506    85.275688\n",
       "min     15.000000   16.000000   15.000000    15.000000\n",
       "25%    140.000000  160.000000  150.000000   155.000000\n",
       "50%    175.000000  200.000000  180.000000   180.000000\n",
       "75%    200.000000  225.000000  220.000000   225.000000\n",
       "max    300.000000  300.000000  300.000000   300.000000"
      ]
     },
     "execution_count": 57,
     "metadata": {},
     "output_type": "execute_result"
    }
   ],
   "source": [
    "Boston_data.describe()"
   ]
  },
  {
   "cell_type": "code",
   "execution_count": 60,
   "id": "739a9194",
   "metadata": {},
   "outputs": [
    {
     "data": {
      "text/plain": [
       "<AxesSubplot:>"
      ]
     },
     "execution_count": 60,
     "metadata": {},
     "output_type": "execute_result"
    },
    {
     "data": {
      "image/png": "[encoded data removed]",
      "text/plain": [
       "<Figure size 432x288 with 1 Axes>"
      ]
     },
     "metadata": {
      "needs_background": "light"
     },
     "output_type": "display_data"
    }
   ],
   "source": [
    "Boston_data['Date'].value_counts().plot.bar()"
   ]
  },
  {
   "cell_type": "code",
   "execution_count": 67,
   "id": "8ef3dce8",
   "metadata": {},
   "outputs": [
    {
     "data": {
      "text/plain": [
       "([0, 1, 2, 3, 4, 5, 6, 7, 8, 9, 10, 11, 12, 13, 14, 15, 16],\n",
       " [Text(0, 0, ''),\n",
       "  Text(0, 0, ''),\n",
       "  Text(0, 0, ''),\n",
       "  Text(0, 0, ''),\n",
       "  Text(0, 0, ''),\n",
       "  Text(0, 0, ''),\n",
       "  Text(0, 0, ''),\n",
       "  Text(0, 0, ''),\n",
       "  Text(0, 0, ''),\n",
       "  Text(0, 0, ''),\n",
       "  Text(0, 0, ''),\n",
       "  Text(0, 0, ''),\n",
       "  Text(0, 0, ''),\n",
       "  Text(0, 0, ''),\n",
       "  Text(0, 0, ''),\n",
       "  Text(0, 0, ''),\n",
       "  Text(0, 0, '')])"
      ]
     },
     "execution_count": 67,
     "metadata": {},
     "output_type": "execute_result"
    },
    {
     "data": {
      "image/png": "[encoded data removed]",
      "text/plain": [
       "<Figure size 432x288 with 1 Axes>"
      ]
     },
     "metadata": {
      "needs_background": "light"
     },
     "output_type": "display_data"
    }
   ],
   "source": [
    "Boston_data['Date'].hist(bins=100)\n",
    "plt.xticks(rotation=90)"
   ]
  },
  {
   "cell_type": "code",
   "execution_count": 24,
   "id": "e9244915",
   "metadata": {},
   "outputs": [
    {
     "name": "stdout",
     "output_type": "stream",
     "text": [
      "Commodity Name - 0%\n",
      "City Name - 0%\n",
      "Type - 100%\n",
      "Package - 0%\n",
      "Variety - 0%\n",
      "Sub Variety - 84%\n",
      "Grade - 100%\n",
      "Date - 0%\n",
      "Low Price - 0%\n",
      "High Price - 0%\n",
      "Mostly Low - 0%\n",
      "Mostly High - 0%\n",
      "Origin - 0%\n",
      "Origin District - 87%\n",
      "Item Size - 7%\n",
      "Color - 81%\n",
      "Environment - 100%\n",
      "Unit of Sale - 78%\n",
      "Quality - 100%\n",
      "Condition - 100%\n",
      "Appearance - 100%\n",
      "Storage - 100%\n",
      "Crop - 100%\n",
      "Repack - 0%\n",
      "Trans Mode - 100%\n"
     ]
    }
   ],
   "source": [
    "    \n",
    "     #cleaning the New_york_df\n",
    "    \n",
    "\n",
    "\n",
    "\n",
    "for col in New_york_df .columns:\n",
    "    pct_missing = np.mean(New_york_df[col].isnull())\n",
    "    print('{} - {}%'.format(col, round(pct_missing*100)))"
   ]
  },
  {
   "cell_type": "code",
   "execution_count": 51,
   "id": "f7c3f5ae",
   "metadata": {},
   "outputs": [
    {
     "data": {
      "text/plain": [
       "(112, 15)"
      ]
     },
     "execution_count": 51,
     "metadata": {},
     "output_type": "execute_result"
    }
   ],
   "source": [
    "New_York_data = New_york_df.drop([\"Type\",\"Grade\",\"Origin District\",\"Environment\",\"Quality\",\"Condition\",\"Appearance\",\"Storage\",\"Crop\",\"Trans Mode\"],axis = 1)\n",
    "New_York_data.shape"
   ]
  },
  {
   "cell_type": "code",
   "execution_count": 54,
   "id": "8355c68f",
   "metadata": {
    "scrolled": true
   },
   "outputs": [
    {
     "data": {
      "text/html": [
       "<div>\n",
       "<style scoped>\n",
       "    .dataframe tbody tr th:only-of-type {\n",
       "        vertical-align: middle;\n",
       "    }\n",
       "\n",
       "    .dataframe tbody tr th {\n",
       "        vertical-align: top;\n",
       "    }\n",
       "\n",
       "    .dataframe thead th {\n",
       "        text-align: right;\n",
       "    }\n",
       "</style>\n",
       "<table border=\"1\" class=\"dataframe\">\n",
       "  <thead>\n",
       "    <tr style=\"text-align: right;\">\n",
       "      <th></th>\n",
       "      <th>Commodity Name</th>\n",
       "      <th>City Name</th>\n",
       "      <th>Package</th>\n",
       "      <th>Variety</th>\n",
       "      <th>Sub Variety</th>\n",
       "      <th>Date</th>\n",
       "      <th>Low Price</th>\n",
       "      <th>High Price</th>\n",
       "      <th>Mostly Low</th>\n",
       "      <th>Mostly High</th>\n",
       "      <th>Origin</th>\n",
       "      <th>Item Size</th>\n",
       "      <th>Color</th>\n",
       "      <th>Unit of Sale</th>\n",
       "      <th>Repack</th>\n",
       "    </tr>\n",
       "  </thead>\n",
       "  <tbody>\n",
       "    <tr>\n",
       "      <th>0</th>\n",
       "      <td>PUMPKINS</td>\n",
       "      <td>NEW YORK</td>\n",
       "      <td>36 inch bins</td>\n",
       "      <td>HOWDEN TYPE</td>\n",
       "      <td>NaN</td>\n",
       "      <td>09/24/2016</td>\n",
       "      <td>150</td>\n",
       "      <td>170</td>\n",
       "      <td>150</td>\n",
       "      <td>170</td>\n",
       "      <td>MICHIGAN</td>\n",
       "      <td>xlge</td>\n",
       "      <td>NaN</td>\n",
       "      <td>NaN</td>\n",
       "      <td>False</td>\n",
       "    </tr>\n",
       "    <tr>\n",
       "      <th>1</th>\n",
       "      <td>PUMPKINS</td>\n",
       "      <td>NEW YORK</td>\n",
       "      <td>36 inch bins</td>\n",
       "      <td>HOWDEN TYPE</td>\n",
       "      <td>NaN</td>\n",
       "      <td>09/24/2016</td>\n",
       "      <td>150</td>\n",
       "      <td>170</td>\n",
       "      <td>150</td>\n",
       "      <td>170</td>\n",
       "      <td>MICHIGAN</td>\n",
       "      <td>lge</td>\n",
       "      <td>NaN</td>\n",
       "      <td>NaN</td>\n",
       "      <td>False</td>\n",
       "    </tr>\n",
       "    <tr>\n",
       "      <th>2</th>\n",
       "      <td>PUMPKINS</td>\n",
       "      <td>NEW YORK</td>\n",
       "      <td>36 inch bins</td>\n",
       "      <td>HOWDEN TYPE</td>\n",
       "      <td>NaN</td>\n",
       "      <td>09/24/2016</td>\n",
       "      <td>130</td>\n",
       "      <td>150</td>\n",
       "      <td>130</td>\n",
       "      <td>150</td>\n",
       "      <td>NEW JERSEY</td>\n",
       "      <td>xlge</td>\n",
       "      <td>NaN</td>\n",
       "      <td>NaN</td>\n",
       "      <td>False</td>\n",
       "    </tr>\n",
       "  </tbody>\n",
       "</table>\n",
       "</div>"
      ],
      "text/plain": [
       "  Commodity Name City Name       Package      Variety Sub Variety        Date  \\\n",
       "0       PUMPKINS  NEW YORK  36 inch bins  HOWDEN TYPE         NaN  09/24/2016   \n",
       "1       PUMPKINS  NEW YORK  36 inch bins  HOWDEN TYPE         NaN  09/24/2016   \n",
       "2       PUMPKINS  NEW YORK  36 inch bins  HOWDEN TYPE         NaN  09/24/2016   \n",
       "\n",
       "   Low Price  High Price  Mostly Low  Mostly High      Origin Item Size Color  \\\n",
       "0        150         170         150          170    MICHIGAN      xlge   NaN   \n",
       "1        150         170         150          170    MICHIGAN       lge   NaN   \n",
       "2        130         150         130          150  NEW JERSEY      xlge   NaN   \n",
       "\n",
       "  Unit of Sale  Repack  \n",
       "0          NaN   False  \n",
       "1          NaN   False  \n",
       "2          NaN   False  "
      ]
     },
     "execution_count": 54,
     "metadata": {},
     "output_type": "execute_result"
    }
   ],
   "source": [
    "New_York_data[\"Repack\"] = New_York_data[\"Repack\"].replace({\"N\":False})\n",
    "New_York_data.head(3)"
   ]
  },
  {
   "cell_type": "code",
   "execution_count": 61,
   "id": "c9afdfab",
   "metadata": {},
   "outputs": [
    {
     "data": {
      "text/html": [
       "<div>\n",
       "<style scoped>\n",
       "    .dataframe tbody tr th:only-of-type {\n",
       "        vertical-align: middle;\n",
       "    }\n",
       "\n",
       "    .dataframe tbody tr th {\n",
       "        vertical-align: top;\n",
       "    }\n",
       "\n",
       "    .dataframe thead th {\n",
       "        text-align: right;\n",
       "    }\n",
       "</style>\n",
       "<table border=\"1\" class=\"dataframe\">\n",
       "  <thead>\n",
       "    <tr style=\"text-align: right;\">\n",
       "      <th></th>\n",
       "      <th>Low Price</th>\n",
       "      <th>High Price</th>\n",
       "      <th>Mostly Low</th>\n",
       "      <th>Mostly High</th>\n",
       "    </tr>\n",
       "  </thead>\n",
       "  <tbody>\n",
       "    <tr>\n",
       "      <th>count</th>\n",
       "      <td>112.000000</td>\n",
       "      <td>112.000000</td>\n",
       "      <td>112.000000</td>\n",
       "      <td>112.000000</td>\n",
       "    </tr>\n",
       "    <tr>\n",
       "      <th>mean</th>\n",
       "      <td>107.125000</td>\n",
       "      <td>116.482143</td>\n",
       "      <td>107.312500</td>\n",
       "      <td>116.410714</td>\n",
       "    </tr>\n",
       "    <tr>\n",
       "      <th>std</th>\n",
       "      <td>71.840931</td>\n",
       "      <td>77.454664</td>\n",
       "      <td>71.830008</td>\n",
       "      <td>77.545285</td>\n",
       "    </tr>\n",
       "    <tr>\n",
       "      <th>min</th>\n",
       "      <td>15.000000</td>\n",
       "      <td>16.000000</td>\n",
       "      <td>15.000000</td>\n",
       "      <td>16.000000</td>\n",
       "    </tr>\n",
       "    <tr>\n",
       "      <th>25%</th>\n",
       "      <td>18.000000</td>\n",
       "      <td>20.000000</td>\n",
       "      <td>18.000000</td>\n",
       "      <td>18.000000</td>\n",
       "    </tr>\n",
       "    <tr>\n",
       "      <th>50%</th>\n",
       "      <td>130.000000</td>\n",
       "      <td>140.000000</td>\n",
       "      <td>130.000000</td>\n",
       "      <td>140.000000</td>\n",
       "    </tr>\n",
       "    <tr>\n",
       "      <th>75%</th>\n",
       "      <td>150.000000</td>\n",
       "      <td>170.000000</td>\n",
       "      <td>150.000000</td>\n",
       "      <td>170.000000</td>\n",
       "    </tr>\n",
       "    <tr>\n",
       "      <th>max</th>\n",
       "      <td>260.000000</td>\n",
       "      <td>300.000000</td>\n",
       "      <td>260.000000</td>\n",
       "      <td>300.000000</td>\n",
       "    </tr>\n",
       "  </tbody>\n",
       "</table>\n",
       "</div>"
      ],
      "text/plain": [
       "        Low Price  High Price  Mostly Low  Mostly High\n",
       "count  112.000000  112.000000  112.000000   112.000000\n",
       "mean   107.125000  116.482143  107.312500   116.410714\n",
       "std     71.840931   77.454664   71.830008    77.545285\n",
       "min     15.000000   16.000000   15.000000    16.000000\n",
       "25%     18.000000   20.000000   18.000000    18.000000\n",
       "50%    130.000000  140.000000  130.000000   140.000000\n",
       "75%    150.000000  170.000000  150.000000   170.000000\n",
       "max    260.000000  300.000000  260.000000   300.000000"
      ]
     },
     "execution_count": 61,
     "metadata": {},
     "output_type": "execute_result"
    }
   ],
   "source": [
    "New_York_data.describe()"
   ]
  },
  {
   "cell_type": "code",
   "execution_count": 62,
   "id": "a4696af2",
   "metadata": {},
   "outputs": [
    {
     "data": {
      "text/plain": [
       "<AxesSubplot:>"
      ]
     },
     "execution_count": 62,
     "metadata": {},
     "output_type": "execute_result"
    },
    {
     "data": {
      "image/png": "[encoded data removed]",
      "text/plain": [
       "<Figure size 432x288 with 1 Axes>"
      ]
     },
     "metadata": {
      "needs_background": "light"
     },
     "output_type": "display_data"
    }
   ],
   "source": [
    "New_York_data['Date'].value_counts().plot.bar()"
   ]
  },
  {
   "cell_type": "code",
   "execution_count": 69,
   "id": "1504f0db",
   "metadata": {},
   "outputs": [
    {
     "data": {
      "text/plain": [
       "([0, 1, 2, 3, 4, 5, 6, 7, 8, 9, 10],\n",
       " [Text(0, 0, ''),\n",
       "  Text(0, 0, ''),\n",
       "  Text(0, 0, ''),\n",
       "  Text(0, 0, ''),\n",
       "  Text(0, 0, ''),\n",
       "  Text(0, 0, ''),\n",
       "  Text(0, 0, ''),\n",
       "  Text(0, 0, ''),\n",
       "  Text(0, 0, ''),\n",
       "  Text(0, 0, ''),\n",
       "  Text(0, 0, '')])"
      ]
     },
     "execution_count": 69,
     "metadata": {},
     "output_type": "execute_result"
    },
    {
     "data": {
      "image/png": "[encoded data removed]",
      "text/plain": [
       "<Figure size 432x288 with 1 Axes>"
      ]
     },
     "metadata": {
      "needs_background": "light"
     },
     "output_type": "display_data"
    }
   ],
   "source": [
    "New_York_data['Date'].hist(bins=100)\n",
    "plt.xticks(rotation=90)\n"
   ]
  },
  {
   "cell_type": "code",
   "execution_count": 26,
   "id": "b7d09000",
   "metadata": {},
   "outputs": [
    {
     "name": "stdout",
     "output_type": "stream",
     "text": [
      "Commodity Name - 0%\n",
      "City Name - 0%\n",
      "Type - 100%\n",
      "Package - 0%\n",
      "Variety - 0%\n",
      "Sub Variety - 79%\n",
      "Grade - 100%\n",
      "Date - 0%\n",
      "Low Price - 0%\n",
      "High Price - 0%\n",
      "Mostly Low - 0%\n",
      "Mostly High - 0%\n",
      "Origin - 0%\n",
      "Origin District - 100%\n",
      "Item Size - 21%\n",
      "Color - 100%\n",
      "Environment - 100%\n",
      "Unit of Sale - 81%\n",
      "Quality - 100%\n",
      "Condition - 100%\n",
      "Appearance - 100%\n",
      "Storage - 100%\n",
      "Crop - 100%\n",
      "Repack - 0%\n",
      "Trans Mode - 100%\n"
     ]
    }
   ],
   "source": [
    "     #cleaning the Philadel_df\n",
    "\n",
    "\n",
    "for col in Philadel_df.columns:\n",
    "    pct_missing = np.mean(Philadel_df[col].isnull())\n",
    "    print('{} - {}%'.format(col, round(pct_missing*100)))"
   ]
  },
  {
   "cell_type": "code",
   "execution_count": 43,
   "id": "b9ccde32",
   "metadata": {},
   "outputs": [
    {
     "data": {
      "text/plain": [
       "(57, 15)"
      ]
     },
     "execution_count": 43,
     "metadata": {},
     "output_type": "execute_result"
    }
   ],
   "source": [
    "Philadel_data = Philadel_df.drop([\"Type\",\"Grade\",\"Origin District\",\"Environment\",\"Quality\",\"Condition\",\"Appearance\",\"Storage\",\"Crop\",\"Trans Mode\"],axis = 1)\n",
    "Philadel_data.shape"
   ]
  },
  {
   "cell_type": "code",
   "execution_count": 55,
   "id": "b134e865",
   "metadata": {},
   "outputs": [
    {
     "data": {
      "text/html": [
       "<div>\n",
       "<style scoped>\n",
       "    .dataframe tbody tr th:only-of-type {\n",
       "        vertical-align: middle;\n",
       "    }\n",
       "\n",
       "    .dataframe tbody tr th {\n",
       "        vertical-align: top;\n",
       "    }\n",
       "\n",
       "    .dataframe thead th {\n",
       "        text-align: right;\n",
       "    }\n",
       "</style>\n",
       "<table border=\"1\" class=\"dataframe\">\n",
       "  <thead>\n",
       "    <tr style=\"text-align: right;\">\n",
       "      <th></th>\n",
       "      <th>Commodity Name</th>\n",
       "      <th>City Name</th>\n",
       "      <th>Package</th>\n",
       "      <th>Variety</th>\n",
       "      <th>Sub Variety</th>\n",
       "      <th>Date</th>\n",
       "      <th>Low Price</th>\n",
       "      <th>High Price</th>\n",
       "      <th>Mostly Low</th>\n",
       "      <th>Mostly High</th>\n",
       "      <th>Origin</th>\n",
       "      <th>Item Size</th>\n",
       "      <th>Color</th>\n",
       "      <th>Unit of Sale</th>\n",
       "      <th>Repack</th>\n",
       "    </tr>\n",
       "  </thead>\n",
       "  <tbody>\n",
       "    <tr>\n",
       "      <th>0</th>\n",
       "      <td>PUMPKINS</td>\n",
       "      <td>PHILADELPHIA</td>\n",
       "      <td>24 inch bins</td>\n",
       "      <td>HOWDEN TYPE</td>\n",
       "      <td>NaN</td>\n",
       "      <td>09/16/2017</td>\n",
       "      <td>140</td>\n",
       "      <td>150</td>\n",
       "      <td>140</td>\n",
       "      <td>150</td>\n",
       "      <td>PENNSYLVANIA</td>\n",
       "      <td>lge</td>\n",
       "      <td>NaN</td>\n",
       "      <td>NaN</td>\n",
       "      <td>False</td>\n",
       "    </tr>\n",
       "    <tr>\n",
       "      <th>1</th>\n",
       "      <td>PUMPKINS</td>\n",
       "      <td>PHILADELPHIA</td>\n",
       "      <td>36 inch bins</td>\n",
       "      <td>HOWDEN TYPE</td>\n",
       "      <td>NaN</td>\n",
       "      <td>09/24/2016</td>\n",
       "      <td>150</td>\n",
       "      <td>150</td>\n",
       "      <td>150</td>\n",
       "      <td>150</td>\n",
       "      <td>NEW YORK</td>\n",
       "      <td>med-lge</td>\n",
       "      <td>NaN</td>\n",
       "      <td>NaN</td>\n",
       "      <td>False</td>\n",
       "    </tr>\n",
       "    <tr>\n",
       "      <th>2</th>\n",
       "      <td>PUMPKINS</td>\n",
       "      <td>PHILADELPHIA</td>\n",
       "      <td>36 inch bins</td>\n",
       "      <td>HOWDEN TYPE</td>\n",
       "      <td>NaN</td>\n",
       "      <td>09/24/2016</td>\n",
       "      <td>150</td>\n",
       "      <td>150</td>\n",
       "      <td>150</td>\n",
       "      <td>150</td>\n",
       "      <td>NEW YORK</td>\n",
       "      <td>med</td>\n",
       "      <td>NaN</td>\n",
       "      <td>NaN</td>\n",
       "      <td>False</td>\n",
       "    </tr>\n",
       "  </tbody>\n",
       "</table>\n",
       "</div>"
      ],
      "text/plain": [
       "  Commodity Name     City Name       Package      Variety Sub Variety  \\\n",
       "0       PUMPKINS  PHILADELPHIA  24 inch bins  HOWDEN TYPE         NaN   \n",
       "1       PUMPKINS  PHILADELPHIA  36 inch bins  HOWDEN TYPE         NaN   \n",
       "2       PUMPKINS  PHILADELPHIA  36 inch bins  HOWDEN TYPE         NaN   \n",
       "\n",
       "         Date  Low Price  High Price  Mostly Low  Mostly High        Origin  \\\n",
       "0  09/16/2017        140         150         140          150  PENNSYLVANIA   \n",
       "1  09/24/2016        150         150         150          150      NEW YORK   \n",
       "2  09/24/2016        150         150         150          150      NEW YORK   \n",
       "\n",
       "  Item Size  Color Unit of Sale  Repack  \n",
       "0       lge    NaN          NaN   False  \n",
       "1   med-lge    NaN          NaN   False  \n",
       "2       med    NaN          NaN   False  "
      ]
     },
     "execution_count": 55,
     "metadata": {},
     "output_type": "execute_result"
    }
   ],
   "source": [
    "Philadel_data [\"Repack\"] =Philadel_data[\"Repack\"].replace({\"N\":False})\n",
    "Philadel_data.head(3) "
   ]
  },
  {
   "cell_type": "code",
   "execution_count": 70,
   "id": "1e57dd65",
   "metadata": {},
   "outputs": [
    {
     "data": {
      "text/html": [
       "<div>\n",
       "<style scoped>\n",
       "    .dataframe tbody tr th:only-of-type {\n",
       "        vertical-align: middle;\n",
       "    }\n",
       "\n",
       "    .dataframe tbody tr th {\n",
       "        vertical-align: top;\n",
       "    }\n",
       "\n",
       "    .dataframe thead th {\n",
       "        text-align: right;\n",
       "    }\n",
       "</style>\n",
       "<table border=\"1\" class=\"dataframe\">\n",
       "  <thead>\n",
       "    <tr style=\"text-align: right;\">\n",
       "      <th></th>\n",
       "      <th>Low Price</th>\n",
       "      <th>High Price</th>\n",
       "      <th>Mostly Low</th>\n",
       "      <th>Mostly High</th>\n",
       "      <th>Color</th>\n",
       "    </tr>\n",
       "  </thead>\n",
       "  <tbody>\n",
       "    <tr>\n",
       "      <th>count</th>\n",
       "      <td>57.000000</td>\n",
       "      <td>57.000000</td>\n",
       "      <td>57.000000</td>\n",
       "      <td>57.000000</td>\n",
       "      <td>0.0</td>\n",
       "    </tr>\n",
       "    <tr>\n",
       "      <th>mean</th>\n",
       "      <td>98.140351</td>\n",
       "      <td>103.754386</td>\n",
       "      <td>98.491228</td>\n",
       "      <td>103.754386</td>\n",
       "      <td>NaN</td>\n",
       "    </tr>\n",
       "    <tr>\n",
       "      <th>std</th>\n",
       "      <td>62.020572</td>\n",
       "      <td>63.399606</td>\n",
       "      <td>62.087819</td>\n",
       "      <td>63.399606</td>\n",
       "      <td>NaN</td>\n",
       "    </tr>\n",
       "    <tr>\n",
       "      <th>min</th>\n",
       "      <td>12.000000</td>\n",
       "      <td>12.000000</td>\n",
       "      <td>12.000000</td>\n",
       "      <td>12.000000</td>\n",
       "      <td>NaN</td>\n",
       "    </tr>\n",
       "    <tr>\n",
       "      <th>25%</th>\n",
       "      <td>18.000000</td>\n",
       "      <td>18.000000</td>\n",
       "      <td>18.000000</td>\n",
       "      <td>18.000000</td>\n",
       "      <td>NaN</td>\n",
       "    </tr>\n",
       "    <tr>\n",
       "      <th>50%</th>\n",
       "      <td>120.000000</td>\n",
       "      <td>125.000000</td>\n",
       "      <td>120.000000</td>\n",
       "      <td>125.000000</td>\n",
       "      <td>NaN</td>\n",
       "    </tr>\n",
       "    <tr>\n",
       "      <th>75%</th>\n",
       "      <td>140.000000</td>\n",
       "      <td>150.000000</td>\n",
       "      <td>140.000000</td>\n",
       "      <td>150.000000</td>\n",
       "      <td>NaN</td>\n",
       "    </tr>\n",
       "    <tr>\n",
       "      <th>max</th>\n",
       "      <td>250.000000</td>\n",
       "      <td>250.000000</td>\n",
       "      <td>250.000000</td>\n",
       "      <td>250.000000</td>\n",
       "      <td>NaN</td>\n",
       "    </tr>\n",
       "  </tbody>\n",
       "</table>\n",
       "</div>"
      ],
      "text/plain": [
       "        Low Price  High Price  Mostly Low  Mostly High  Color\n",
       "count   57.000000   57.000000   57.000000    57.000000    0.0\n",
       "mean    98.140351  103.754386   98.491228   103.754386    NaN\n",
       "std     62.020572   63.399606   62.087819    63.399606    NaN\n",
       "min     12.000000   12.000000   12.000000    12.000000    NaN\n",
       "25%     18.000000   18.000000   18.000000    18.000000    NaN\n",
       "50%    120.000000  125.000000  120.000000   125.000000    NaN\n",
       "75%    140.000000  150.000000  140.000000   150.000000    NaN\n",
       "max    250.000000  250.000000  250.000000   250.000000    NaN"
      ]
     },
     "execution_count": 70,
     "metadata": {},
     "output_type": "execute_result"
    }
   ],
   "source": [
    "Philadel_data.describe()"
   ]
  },
  {
   "cell_type": "code",
   "execution_count": 71,
   "id": "64c6cc65",
   "metadata": {},
   "outputs": [
    {
     "data": {
      "text/plain": [
       "<AxesSubplot:>"
      ]
     },
     "execution_count": 71,
     "metadata": {},
     "output_type": "execute_result"
    },
    {
     "data": {
      "image/png": "[encoded data removed]",
      "text/plain": [
       "<Figure size 432x288 with 1 Axes>"
      ]
     },
     "metadata": {
      "needs_background": "light"
     },
     "output_type": "display_data"
    }
   ],
   "source": [
    "Philadel_data['Date'].value_counts().plot.bar()"
   ]
  },
  {
   "cell_type": "code",
   "execution_count": 72,
   "id": "a28ebc4a",
   "metadata": {},
   "outputs": [
    {
     "data": {
      "text/plain": [
       "([0, 1, 2, 3, 4, 5, 6, 7, 8, 9, 10],\n",
       " [Text(0, 0, ''),\n",
       "  Text(0, 0, ''),\n",
       "  Text(0, 0, ''),\n",
       "  Text(0, 0, ''),\n",
       "  Text(0, 0, ''),\n",
       "  Text(0, 0, ''),\n",
       "  Text(0, 0, ''),\n",
       "  Text(0, 0, ''),\n",
       "  Text(0, 0, ''),\n",
       "  Text(0, 0, ''),\n",
       "  Text(0, 0, '')])"
      ]
     },
     "execution_count": 72,
     "metadata": {},
     "output_type": "execute_result"
    },
    {
     "data": {
      "image/png": "[encoded data removed]",
      "text/plain": [
       "<Figure size 432x288 with 1 Axes>"
      ]
     },
     "metadata": {
      "needs_background": "light"
     },
     "output_type": "display_data"
    }
   ],
   "source": [
    "Philadel_data['Date'].hist(bins=100)\n",
    "plt.xticks(rotation=90)\n"
   ]
  },
  {
   "cell_type": "markdown",
   "id": "e70b01b9",
   "metadata": {},
   "source": [
    "## Combine Your Data\n",
    "\n",
    "Now that you have four clean sets of data, combine all four into one dataframe that represents the entire Northeast region."
   ]
  },
  {
   "cell_type": "code",
   "execution_count": 100,
   "id": "22b0874e",
   "metadata": {},
   "outputs": [
    {
     "data": {
      "text/html": [
       "<div>\n",
       "<style scoped>\n",
       "    .dataframe tbody tr th:only-of-type {\n",
       "        vertical-align: middle;\n",
       "    }\n",
       "\n",
       "    .dataframe tbody tr th {\n",
       "        vertical-align: top;\n",
       "    }\n",
       "\n",
       "    .dataframe thead th {\n",
       "        text-align: right;\n",
       "    }\n",
       "</style>\n",
       "<table border=\"1\" class=\"dataframe\">\n",
       "  <thead>\n",
       "    <tr style=\"text-align: right;\">\n",
       "      <th></th>\n",
       "      <th>Commodity Name</th>\n",
       "      <th>City Name</th>\n",
       "      <th>Package</th>\n",
       "      <th>Variety</th>\n",
       "      <th>Sub Variety</th>\n",
       "      <th>Date</th>\n",
       "      <th>Low Price</th>\n",
       "      <th>High Price</th>\n",
       "      <th>Mostly Low</th>\n",
       "      <th>Mostly High</th>\n",
       "      <th>Origin</th>\n",
       "      <th>Item Size</th>\n",
       "      <th>Color</th>\n",
       "      <th>Unit of Sale</th>\n",
       "      <th>Repack</th>\n",
       "    </tr>\n",
       "  </thead>\n",
       "  <tbody>\n",
       "    <tr>\n",
       "      <th>0</th>\n",
       "      <td>PUMPKINS</td>\n",
       "      <td>BALTIMORE</td>\n",
       "      <td>24 inch bins</td>\n",
       "      <td>NaN</td>\n",
       "      <td>NaN</td>\n",
       "      <td>04/29/2017</td>\n",
       "      <td>270</td>\n",
       "      <td>280.0</td>\n",
       "      <td>270</td>\n",
       "      <td>280.0</td>\n",
       "      <td>NaN</td>\n",
       "      <td>lge</td>\n",
       "      <td>NaN</td>\n",
       "      <td>NaN</td>\n",
       "      <td>E</td>\n",
       "    </tr>\n",
       "    <tr>\n",
       "      <th>1</th>\n",
       "      <td>PUMPKINS</td>\n",
       "      <td>BALTIMORE</td>\n",
       "      <td>24 inch bins</td>\n",
       "      <td>NaN</td>\n",
       "      <td>NaN</td>\n",
       "      <td>05/06/2017</td>\n",
       "      <td>270</td>\n",
       "      <td>280.0</td>\n",
       "      <td>270</td>\n",
       "      <td>280.0</td>\n",
       "      <td>NaN</td>\n",
       "      <td>lge</td>\n",
       "      <td>NaN</td>\n",
       "      <td>NaN</td>\n",
       "      <td>E</td>\n",
       "    </tr>\n",
       "    <tr>\n",
       "      <th>2</th>\n",
       "      <td>PUMPKINS</td>\n",
       "      <td>BALTIMORE</td>\n",
       "      <td>24 inch bins</td>\n",
       "      <td>HOWDEN TYPE</td>\n",
       "      <td>NaN</td>\n",
       "      <td>09/24/2016</td>\n",
       "      <td>160</td>\n",
       "      <td>160.0</td>\n",
       "      <td>160</td>\n",
       "      <td>160.0</td>\n",
       "      <td>DELAWARE</td>\n",
       "      <td>med</td>\n",
       "      <td>NaN</td>\n",
       "      <td>NaN</td>\n",
       "      <td>False</td>\n",
       "    </tr>\n",
       "    <tr>\n",
       "      <th>3</th>\n",
       "      <td>PUMPKINS</td>\n",
       "      <td>BALTIMORE</td>\n",
       "      <td>24 inch bins</td>\n",
       "      <td>HOWDEN TYPE</td>\n",
       "      <td>NaN</td>\n",
       "      <td>09/24/2016</td>\n",
       "      <td>160</td>\n",
       "      <td>160.0</td>\n",
       "      <td>160</td>\n",
       "      <td>160.0</td>\n",
       "      <td>VIRGINIA</td>\n",
       "      <td>med</td>\n",
       "      <td>NaN</td>\n",
       "      <td>NaN</td>\n",
       "      <td>False</td>\n",
       "    </tr>\n",
       "    <tr>\n",
       "      <th>4</th>\n",
       "      <td>PUMPKINS</td>\n",
       "      <td>BALTIMORE</td>\n",
       "      <td>24 inch bins</td>\n",
       "      <td>HOWDEN TYPE</td>\n",
       "      <td>NaN</td>\n",
       "      <td>11/05/2016</td>\n",
       "      <td>90</td>\n",
       "      <td>100.0</td>\n",
       "      <td>90</td>\n",
       "      <td>100.0</td>\n",
       "      <td>MARYLAND</td>\n",
       "      <td>lge</td>\n",
       "      <td>NaN</td>\n",
       "      <td>NaN</td>\n",
       "      <td>False</td>\n",
       "    </tr>\n",
       "    <tr>\n",
       "      <th>...</th>\n",
       "      <td>...</td>\n",
       "      <td>...</td>\n",
       "      <td>...</td>\n",
       "      <td>...</td>\n",
       "      <td>...</td>\n",
       "      <td>...</td>\n",
       "      <td>...</td>\n",
       "      <td>...</td>\n",
       "      <td>...</td>\n",
       "      <td>...</td>\n",
       "      <td>...</td>\n",
       "      <td>...</td>\n",
       "      <td>...</td>\n",
       "      <td>...</td>\n",
       "      <td>...</td>\n",
       "    </tr>\n",
       "    <tr>\n",
       "      <th>52</th>\n",
       "      <td>PUMPKINS</td>\n",
       "      <td>PHILADELPHIA</td>\n",
       "      <td>1/2 bushel cartons</td>\n",
       "      <td>MINIATURE</td>\n",
       "      <td>FLAT TYPE</td>\n",
       "      <td>11/05/2016</td>\n",
       "      <td>16</td>\n",
       "      <td>18.0</td>\n",
       "      <td>16</td>\n",
       "      <td>18.0</td>\n",
       "      <td>OHIO</td>\n",
       "      <td>NaN</td>\n",
       "      <td>NaN</td>\n",
       "      <td>SHELLACKED</td>\n",
       "      <td>False</td>\n",
       "    </tr>\n",
       "    <tr>\n",
       "      <th>53</th>\n",
       "      <td>PUMPKINS</td>\n",
       "      <td>PHILADELPHIA</td>\n",
       "      <td>1/2 bushel cartons</td>\n",
       "      <td>MINIATURE</td>\n",
       "      <td>FLAT TYPE</td>\n",
       "      <td>08/26/2017</td>\n",
       "      <td>18</td>\n",
       "      <td>20.0</td>\n",
       "      <td>18</td>\n",
       "      <td>20.0</td>\n",
       "      <td>MICHIGAN</td>\n",
       "      <td>NaN</td>\n",
       "      <td>NaN</td>\n",
       "      <td>SHELLACKED</td>\n",
       "      <td>False</td>\n",
       "    </tr>\n",
       "    <tr>\n",
       "      <th>54</th>\n",
       "      <td>PUMPKINS</td>\n",
       "      <td>PHILADELPHIA</td>\n",
       "      <td>1/2 bushel cartons</td>\n",
       "      <td>MINIATURE</td>\n",
       "      <td>FLAT TYPE</td>\n",
       "      <td>09/16/2017</td>\n",
       "      <td>16</td>\n",
       "      <td>16.0</td>\n",
       "      <td>16</td>\n",
       "      <td>16.0</td>\n",
       "      <td>OHIO</td>\n",
       "      <td>NaN</td>\n",
       "      <td>NaN</td>\n",
       "      <td>SHELLACKED</td>\n",
       "      <td>False</td>\n",
       "    </tr>\n",
       "    <tr>\n",
       "      <th>55</th>\n",
       "      <td>PUMPKINS</td>\n",
       "      <td>PHILADELPHIA</td>\n",
       "      <td>1/2 bushel cartons</td>\n",
       "      <td>MINIATURE</td>\n",
       "      <td>FLAT TYPE</td>\n",
       "      <td>09/23/2017</td>\n",
       "      <td>15</td>\n",
       "      <td>16.0</td>\n",
       "      <td>15</td>\n",
       "      <td>16.0</td>\n",
       "      <td>OHIO</td>\n",
       "      <td>NaN</td>\n",
       "      <td>NaN</td>\n",
       "      <td>SHELLACKED</td>\n",
       "      <td>False</td>\n",
       "    </tr>\n",
       "    <tr>\n",
       "      <th>56</th>\n",
       "      <td>PUMPKINS</td>\n",
       "      <td>PHILADELPHIA</td>\n",
       "      <td>1/2 bushel cartons</td>\n",
       "      <td>MINIATURE</td>\n",
       "      <td>FLAT TYPE</td>\n",
       "      <td>09/30/2017</td>\n",
       "      <td>15</td>\n",
       "      <td>18.0</td>\n",
       "      <td>15</td>\n",
       "      <td>18.0</td>\n",
       "      <td>OHIO</td>\n",
       "      <td>NaN</td>\n",
       "      <td>NaN</td>\n",
       "      <td>SHELLACKED</td>\n",
       "      <td>False</td>\n",
       "    </tr>\n",
       "  </tbody>\n",
       "</table>\n",
       "<p>674 rows × 15 columns</p>\n",
       "</div>"
      ],
      "text/plain": [
       "   Commodity Name     City Name             Package      Variety Sub Variety  \\\n",
       "0        PUMPKINS     BALTIMORE        24 inch bins          NaN         NaN   \n",
       "1        PUMPKINS     BALTIMORE        24 inch bins          NaN         NaN   \n",
       "2        PUMPKINS     BALTIMORE        24 inch bins  HOWDEN TYPE         NaN   \n",
       "3        PUMPKINS     BALTIMORE        24 inch bins  HOWDEN TYPE         NaN   \n",
       "4        PUMPKINS     BALTIMORE        24 inch bins  HOWDEN TYPE         NaN   \n",
       "..            ...           ...                 ...          ...         ...   \n",
       "52       PUMPKINS  PHILADELPHIA  1/2 bushel cartons    MINIATURE   FLAT TYPE   \n",
       "53       PUMPKINS  PHILADELPHIA  1/2 bushel cartons    MINIATURE   FLAT TYPE   \n",
       "54       PUMPKINS  PHILADELPHIA  1/2 bushel cartons    MINIATURE   FLAT TYPE   \n",
       "55       PUMPKINS  PHILADELPHIA  1/2 bushel cartons    MINIATURE   FLAT TYPE   \n",
       "56       PUMPKINS  PHILADELPHIA  1/2 bushel cartons    MINIATURE   FLAT TYPE   \n",
       "\n",
       "          Date  Low Price  High Price  Mostly Low  Mostly High    Origin  \\\n",
       "0   04/29/2017        270       280.0         270        280.0       NaN   \n",
       "1   05/06/2017        270       280.0         270        280.0       NaN   \n",
       "2   09/24/2016        160       160.0         160        160.0  DELAWARE   \n",
       "3   09/24/2016        160       160.0         160        160.0  VIRGINIA   \n",
       "4   11/05/2016         90       100.0          90        100.0  MARYLAND   \n",
       "..         ...        ...         ...         ...          ...       ...   \n",
       "52  11/05/2016         16        18.0          16         18.0      OHIO   \n",
       "53  08/26/2017         18        20.0          18         20.0  MICHIGAN   \n",
       "54  09/16/2017         16        16.0          16         16.0      OHIO   \n",
       "55  09/23/2017         15        16.0          15         16.0      OHIO   \n",
       "56  09/30/2017         15        18.0          15         18.0      OHIO   \n",
       "\n",
       "   Item Size Color Unit of Sale Repack  \n",
       "0        lge   NaN          NaN      E  \n",
       "1        lge   NaN          NaN      E  \n",
       "2        med   NaN          NaN  False  \n",
       "3        med   NaN          NaN  False  \n",
       "4        lge   NaN          NaN  False  \n",
       "..       ...   ...          ...    ...  \n",
       "52       NaN   NaN   SHELLACKED  False  \n",
       "53       NaN   NaN   SHELLACKED  False  \n",
       "54       NaN   NaN   SHELLACKED  False  \n",
       "55       NaN   NaN   SHELLACKED  False  \n",
       "56       NaN   NaN   SHELLACKED  False  \n",
       "\n",
       "[674 rows x 15 columns]"
      ]
     },
     "execution_count": 100,
     "metadata": {},
     "output_type": "execute_result"
    }
   ],
   "source": [
    "#Combine the four dataframes into one!\n",
    "\n",
    "dfs =pd.concat([Balt_data, Boston_data, New_York_data, Philadel_data])\n",
    "dfs"
   ]
  },
  {
   "cell_type": "markdown",
   "id": "8590082f",
   "metadata": {},
   "source": [
    "## Answer Some Questions\n",
    "\n",
    "Use `groupby()` and `agg()` to answer the following two questions:\n",
    "\n",
    "1. What is the mean low and high prices for each type of unit of sale in the Northeast region? In the last lesson, we learned that a unit of sale could be something like a bin or individually. \n",
    "2. What is the average number of pumpkins for each variety that came into terminal markets for the year by region? Pumpkin varieties include Howden and Fairytale pumpkins."
   ]
  },
  {
   "cell_type": "code",
   "execution_count": 111,
   "id": "c839639a",
   "metadata": {},
   "outputs": [
    {
     "data": {
      "text/html": [
       "<div>\n",
       "<style scoped>\n",
       "    .dataframe tbody tr th:only-of-type {\n",
       "        vertical-align: middle;\n",
       "    }\n",
       "\n",
       "    .dataframe tbody tr th {\n",
       "        vertical-align: top;\n",
       "    }\n",
       "\n",
       "    .dataframe thead th {\n",
       "        text-align: right;\n",
       "    }\n",
       "</style>\n",
       "<table border=\"1\" class=\"dataframe\">\n",
       "  <thead>\n",
       "    <tr style=\"text-align: right;\">\n",
       "      <th></th>\n",
       "      <th>Low Price</th>\n",
       "      <th>High Price</th>\n",
       "    </tr>\n",
       "    <tr>\n",
       "      <th>Unit of Sale</th>\n",
       "      <th></th>\n",
       "      <th></th>\n",
       "    </tr>\n",
       "  </thead>\n",
       "  <tbody>\n",
       "    <tr>\n",
       "      <th>EACH</th>\n",
       "      <td>47.916667</td>\n",
       "      <td>59.166667</td>\n",
       "    </tr>\n",
       "    <tr>\n",
       "      <th>PER BIN</th>\n",
       "      <td>185.845070</td>\n",
       "      <td>206.619718</td>\n",
       "    </tr>\n",
       "    <tr>\n",
       "      <th>SHELLACKED</th>\n",
       "      <td>16.000000</td>\n",
       "      <td>17.545455</td>\n",
       "    </tr>\n",
       "  </tbody>\n",
       "</table>\n",
       "</div>"
      ],
      "text/plain": [
       "               Low Price  High Price\n",
       "Unit of Sale                        \n",
       "EACH           47.916667   59.166667\n",
       "PER BIN       185.845070  206.619718\n",
       "SHELLACKED     16.000000   17.545455"
      ]
     },
     "execution_count": 111,
     "metadata": {},
     "output_type": "execute_result"
    }
   ],
   "source": [
    "# Put your code here to find the mean low and high prices in the Northeast region for each type of unit of sale.\n",
    "#m = dfs[\"Unit of Sale\"].value_counts()\n",
    "dfs_group_Unit_of_Sale = dfs.groupby(\"Unit of Sale\")\n",
    "dict ={\"Low Price\":\"mean\",\"High Price\":\"mean\"}\n",
    "dfs_mean_Unit_of_Sale =dfs_group_Unit_of_Sale.agg(dict)\n",
    "dfs_mean_Unit_of_Sale"
   ]
  },
  {
   "cell_type": "code",
   "execution_count": 134,
   "id": "b4b23352",
   "metadata": {},
   "outputs": [
    {
     "data": {
      "text/plain": [
       "2"
      ]
     },
     "execution_count": 134,
     "metadata": {},
     "output_type": "execute_result"
    }
   ],
   "source": [
    "# Put your code here to find the average number of pumpkins coming into terminal markets of each variety.\n",
    "dfs[\"Variety\"].isnull().sum()"
   ]
  },
  {
   "cell_type": "code",
   "execution_count": 139,
   "id": "bb11845f",
   "metadata": {},
   "outputs": [
    {
     "data": {
      "text/plain": [
       "HOWDEN TYPE                 224\n",
       "PIE TYPE                    198\n",
       "MINIATURE                    97\n",
       "BIG MACK TYPE                55\n",
       "CINDERELLA                   39\n",
       "FAIRYTALE                    37\n",
       "KNUCKLE HEAD                  9\n",
       "BLUE TYPE                     7\n",
       "MIXED HEIRLOOM VARIETIES      4\n",
       "HOWDEN WHITE TYPE             2\n",
       "Name: Variety, dtype: int64"
      ]
     },
     "execution_count": 139,
     "metadata": {},
     "output_type": "execute_result"
    }
   ],
   "source": [
    "dfs[\"Variety\"].value_counts()\n"
   ]
  },
  {
   "cell_type": "code",
   "execution_count": 156,
   "id": "fb049bb4",
   "metadata": {},
   "outputs": [
    {
     "data": {
      "text/html": [
       "<div>\n",
       "<style scoped>\n",
       "    .dataframe tbody tr th:only-of-type {\n",
       "        vertical-align: middle;\n",
       "    }\n",
       "\n",
       "    .dataframe tbody tr th {\n",
       "        vertical-align: top;\n",
       "    }\n",
       "\n",
       "    .dataframe thead th {\n",
       "        text-align: right;\n",
       "    }\n",
       "</style>\n",
       "<table border=\"1\" class=\"dataframe\">\n",
       "  <thead>\n",
       "    <tr style=\"text-align: right;\">\n",
       "      <th></th>\n",
       "      <th></th>\n",
       "      <th>Low Price</th>\n",
       "      <th>High Price</th>\n",
       "      <th>Mostly Low</th>\n",
       "      <th>Mostly High</th>\n",
       "    </tr>\n",
       "    <tr>\n",
       "      <th>Variety</th>\n",
       "      <th>Package</th>\n",
       "      <th></th>\n",
       "      <th></th>\n",
       "      <th></th>\n",
       "      <th></th>\n",
       "    </tr>\n",
       "  </thead>\n",
       "  <tbody>\n",
       "    <tr>\n",
       "      <th rowspan=\"3\" valign=\"top\">BIG MACK TYPE</th>\n",
       "      <th>24 inch bins</th>\n",
       "      <td>95.806452</td>\n",
       "      <td>110.161290</td>\n",
       "      <td>101.451613</td>\n",
       "      <td>110.161290</td>\n",
       "    </tr>\n",
       "    <tr>\n",
       "      <th>36 inch bins</th>\n",
       "      <td>181.818182</td>\n",
       "      <td>205.681818</td>\n",
       "      <td>193.636364</td>\n",
       "      <td>201.136364</td>\n",
       "    </tr>\n",
       "    <tr>\n",
       "      <th>each</th>\n",
       "      <td>75.000000</td>\n",
       "      <td>80.000000</td>\n",
       "      <td>75.000000</td>\n",
       "      <td>80.000000</td>\n",
       "    </tr>\n",
       "    <tr>\n",
       "      <th>BLUE TYPE</th>\n",
       "      <th>24 inch bins</th>\n",
       "      <td>260.000000</td>\n",
       "      <td>285.000000</td>\n",
       "      <td>285.000000</td>\n",
       "      <td>285.000000</td>\n",
       "    </tr>\n",
       "    <tr>\n",
       "      <th rowspan=\"2\" valign=\"top\">CINDERELLA</th>\n",
       "      <th>24 inch bins</th>\n",
       "      <td>260.333333</td>\n",
       "      <td>279.666667</td>\n",
       "      <td>272.000000</td>\n",
       "      <td>279.666667</td>\n",
       "    </tr>\n",
       "    <tr>\n",
       "      <th>50 lb sacks</th>\n",
       "      <td>25.111111</td>\n",
       "      <td>25.333333</td>\n",
       "      <td>25.111111</td>\n",
       "      <td>25.333333</td>\n",
       "    </tr>\n",
       "    <tr>\n",
       "      <th rowspan=\"2\" valign=\"top\">FAIRYTALE</th>\n",
       "      <th>1/2 bushel cartons</th>\n",
       "      <td>15.000000</td>\n",
       "      <td>16.000000</td>\n",
       "      <td>15.000000</td>\n",
       "      <td>15.000000</td>\n",
       "    </tr>\n",
       "    <tr>\n",
       "      <th>24 inch bins</th>\n",
       "      <td>241.666667</td>\n",
       "      <td>260.333333</td>\n",
       "      <td>253.333333</td>\n",
       "      <td>260.000000</td>\n",
       "    </tr>\n",
       "    <tr>\n",
       "      <th rowspan=\"2\" valign=\"top\">HOWDEN TYPE</th>\n",
       "      <th>24 inch bins</th>\n",
       "      <td>128.000000</td>\n",
       "      <td>134.000000</td>\n",
       "      <td>128.000000</td>\n",
       "      <td>134.000000</td>\n",
       "    </tr>\n",
       "    <tr>\n",
       "      <th>36 inch bins</th>\n",
       "      <td>153.401826</td>\n",
       "      <td>178.082192</td>\n",
       "      <td>158.995434</td>\n",
       "      <td>166.004566</td>\n",
       "    </tr>\n",
       "    <tr>\n",
       "      <th>HOWDEN WHITE TYPE</th>\n",
       "      <th>24 inch bins</th>\n",
       "      <td>170.000000</td>\n",
       "      <td>180.000000</td>\n",
       "      <td>170.000000</td>\n",
       "      <td>180.000000</td>\n",
       "    </tr>\n",
       "    <tr>\n",
       "      <th rowspan=\"2\" valign=\"top\">KNUCKLE HEAD</th>\n",
       "      <th>24 inch bins</th>\n",
       "      <td>253.750000</td>\n",
       "      <td>275.625000</td>\n",
       "      <td>275.625000</td>\n",
       "      <td>275.625000</td>\n",
       "    </tr>\n",
       "    <tr>\n",
       "      <th>36 inch bins</th>\n",
       "      <td>120.000000</td>\n",
       "      <td>140.000000</td>\n",
       "      <td>120.000000</td>\n",
       "      <td>140.000000</td>\n",
       "    </tr>\n",
       "    <tr>\n",
       "      <th rowspan=\"3\" valign=\"top\">MINIATURE</th>\n",
       "      <th>1 1/9 bushel crates</th>\n",
       "      <td>18.000000</td>\n",
       "      <td>18.000000</td>\n",
       "      <td>18.000000</td>\n",
       "      <td>18.000000</td>\n",
       "    </tr>\n",
       "    <tr>\n",
       "      <th>1/2 bushel cartons</th>\n",
       "      <td>16.111111</td>\n",
       "      <td>17.722222</td>\n",
       "      <td>16.177778</td>\n",
       "      <td>16.766667</td>\n",
       "    </tr>\n",
       "    <tr>\n",
       "      <th>bushel cartons</th>\n",
       "      <td>32.000000</td>\n",
       "      <td>32.000000</td>\n",
       "      <td>32.000000</td>\n",
       "      <td>32.000000</td>\n",
       "    </tr>\n",
       "    <tr>\n",
       "      <th>MIXED HEIRLOOM VARIETIES</th>\n",
       "      <th>24 inch bins</th>\n",
       "      <td>210.000000</td>\n",
       "      <td>230.000000</td>\n",
       "      <td>210.000000</td>\n",
       "      <td>230.000000</td>\n",
       "    </tr>\n",
       "    <tr>\n",
       "      <th rowspan=\"5\" valign=\"top\">PIE TYPE</th>\n",
       "      <th>1 1/9 bushel cartons</th>\n",
       "      <td>15.875000</td>\n",
       "      <td>16.739583</td>\n",
       "      <td>15.875000</td>\n",
       "      <td>16.489583</td>\n",
       "    </tr>\n",
       "    <tr>\n",
       "      <th>1 1/9 bushel crates</th>\n",
       "      <td>15.000000</td>\n",
       "      <td>16.000000</td>\n",
       "      <td>15.000000</td>\n",
       "      <td>15.000000</td>\n",
       "    </tr>\n",
       "    <tr>\n",
       "      <th>24 inch bins</th>\n",
       "      <td>156.355932</td>\n",
       "      <td>165.677966</td>\n",
       "      <td>157.966102</td>\n",
       "      <td>163.389831</td>\n",
       "    </tr>\n",
       "    <tr>\n",
       "      <th>36 inch bins</th>\n",
       "      <td>218.243243</td>\n",
       "      <td>249.256757</td>\n",
       "      <td>227.702703</td>\n",
       "      <td>236.621622</td>\n",
       "    </tr>\n",
       "    <tr>\n",
       "      <th>bushel cartons</th>\n",
       "      <td>18.666667</td>\n",
       "      <td>21.333333</td>\n",
       "      <td>20.000000</td>\n",
       "      <td>20.333333</td>\n",
       "    </tr>\n",
       "  </tbody>\n",
       "</table>\n",
       "</div>"
      ],
      "text/plain": [
       "                                                Low Price  High Price  \\\n",
       "Variety                  Package                                        \n",
       "BIG MACK TYPE            24 inch bins           95.806452  110.161290   \n",
       "                         36 inch bins          181.818182  205.681818   \n",
       "                         each                   75.000000   80.000000   \n",
       "BLUE TYPE                24 inch bins          260.000000  285.000000   \n",
       "CINDERELLA               24 inch bins          260.333333  279.666667   \n",
       "                         50 lb sacks            25.111111   25.333333   \n",
       "FAIRYTALE                1/2 bushel cartons     15.000000   16.000000   \n",
       "                         24 inch bins          241.666667  260.333333   \n",
       "HOWDEN TYPE              24 inch bins          128.000000  134.000000   \n",
       "                         36 inch bins          153.401826  178.082192   \n",
       "HOWDEN WHITE TYPE        24 inch bins          170.000000  180.000000   \n",
       "KNUCKLE HEAD             24 inch bins          253.750000  275.625000   \n",
       "                         36 inch bins          120.000000  140.000000   \n",
       "MINIATURE                1 1/9 bushel crates    18.000000   18.000000   \n",
       "                         1/2 bushel cartons     16.111111   17.722222   \n",
       "                         bushel cartons         32.000000   32.000000   \n",
       "MIXED HEIRLOOM VARIETIES 24 inch bins          210.000000  230.000000   \n",
       "PIE TYPE                 1 1/9 bushel cartons   15.875000   16.739583   \n",
       "                         1 1/9 bushel crates    15.000000   16.000000   \n",
       "                         24 inch bins          156.355932  165.677966   \n",
       "                         36 inch bins          218.243243  249.256757   \n",
       "                         bushel cartons         18.666667   21.333333   \n",
       "\n",
       "                                               Mostly Low  Mostly High  \n",
       "Variety                  Package                                        \n",
       "BIG MACK TYPE            24 inch bins          101.451613   110.161290  \n",
       "                         36 inch bins          193.636364   201.136364  \n",
       "                         each                   75.000000    80.000000  \n",
       "BLUE TYPE                24 inch bins          285.000000   285.000000  \n",
       "CINDERELLA               24 inch bins          272.000000   279.666667  \n",
       "                         50 lb sacks            25.111111    25.333333  \n",
       "FAIRYTALE                1/2 bushel cartons     15.000000    15.000000  \n",
       "                         24 inch bins          253.333333   260.000000  \n",
       "HOWDEN TYPE              24 inch bins          128.000000   134.000000  \n",
       "                         36 inch bins          158.995434   166.004566  \n",
       "HOWDEN WHITE TYPE        24 inch bins          170.000000   180.000000  \n",
       "KNUCKLE HEAD             24 inch bins          275.625000   275.625000  \n",
       "                         36 inch bins          120.000000   140.000000  \n",
       "MINIATURE                1 1/9 bushel crates    18.000000    18.000000  \n",
       "                         1/2 bushel cartons     16.177778    16.766667  \n",
       "                         bushel cartons         32.000000    32.000000  \n",
       "MIXED HEIRLOOM VARIETIES 24 inch bins          210.000000   230.000000  \n",
       "PIE TYPE                 1 1/9 bushel cartons   15.875000    16.489583  \n",
       "                         1 1/9 bushel crates    15.000000    15.000000  \n",
       "                         24 inch bins          157.966102   163.389831  \n",
       "                         36 inch bins          227.702703   236.621622  \n",
       "                         bushel cartons         20.000000    20.333333  "
      ]
     },
     "execution_count": 156,
     "metadata": {},
     "output_type": "execute_result"
    }
   ],
   "source": [
    "\n",
    "\n",
    "m = dfs.groupby([\"Variety\",\"Package\"]).agg('mean')\n",
    "m"
   ]
  },
  {
   "cell_type": "markdown",
   "id": "a2e5cff4",
   "metadata": {},
   "source": [
    "## Bonus Mission\n",
    "\n",
    "Try answering the same questions for the Midwest (Chicago, Detroit, and St. Louis) or the Southeast (Atlanta, Columbia, and Miami) regions."
   ]
  },
  {
   "cell_type": "code",
   "execution_count": 59,
   "id": "1d22b7fd",
   "metadata": {},
   "outputs": [],
   "source": [
    "# Try the bonus mission if you have time!"
   ]
  },
  {
   "cell_type": "code",
   "execution_count": null,
   "id": "09dbc152",
   "metadata": {},
   "outputs": [],
   "source": []
  }
 ],
 "metadata": {
  "kernelspec": {
   "display_name": "Python 3 (ipykernel)",
   "language": "python",
   "name": "python3"
  },
  "language_info": {
   "codemirror_mode": {
    "name": "ipython",
    "version": 3
   },
   "file_extension": ".py",
   "mimetype": "text/x-python",
   "name": "python",
   "nbconvert_exporter": "python",
   "pygments_lexer": "ipython3",
   "version": "3.9.12"
  }
 },
 "nbformat": 4,
 "nbformat_minor": 5
}
